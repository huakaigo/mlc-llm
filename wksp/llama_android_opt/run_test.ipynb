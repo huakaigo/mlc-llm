{
 "cells": [
  {
   "cell_type": "code",
   "execution_count": 2,
   "metadata": {},
   "outputs": [],
   "source": [
    "import os\n",
    "import tvm\n",
    "from tvm.script import ir as I\n",
    "from tvm.script import tir as T\n",
    "from tvm import autotvm, auto_scheduler\n",
    "from tvm.autotvm.tuner import XGBTuner, GATuner, RandomTuner, GridSearchTuner\n",
    "from tvm import meta_schedule as ms\n",
    "from tvm.ir import IRModule\n",
    "from tvm import relax\n",
    "from tvm import te\n",
    "from tvm import rpc\n",
    "from tvm.contrib import utils\n",
    "\n",
    "import numpy as np\n"
   ]
  },
  {
   "cell_type": "code",
   "execution_count": 15,
   "metadata": {},
   "outputs": [
    {
     "ename": "TVMError",
     "evalue": "Traceback (most recent call last):\n  6: 0xffffffffffffffff\n  5: 0x00000000005b7412\n  4: __libc_start_main\n  3: ffi_call\n  2: operator()\n        at /data/workspace/llm/github/new_wksp/tvm-unity/src/runtime/rpc/rpc_socket_impl.cc:132\n  1: tvm::runtime::RPCClientConnect(std::__cxx11::basic_string<char, std::char_traits<char>, std::allocator<char> >, int, std::__cxx11::basic_string<char, std::char_traits<char>, std::allocator<char> >, bool, tvm::runtime::TVMArgs)\n        at /data/workspace/llm/github/new_wksp/tvm-unity/src/runtime/rpc/rpc_socket_impl.cc:112\n  0: tvm::runtime::RPCConnect(std::__cxx11::basic_string<char, std::char_traits<char>, std::allocator<char> >, int, std::__cxx11::basic_string<char, std::char_traits<char>, std::allocator<char> >, bool, tvm::runtime::TVMArgs)\n        at /data/workspace/llm/github/new_wksp/tvm-unity/src/runtime/rpc/rpc_socket_impl.cc:85\n  File \"/data/workspace/llm/github/new_wksp/tvm-unity/src/runtime/rpc/rpc_socket_impl.cc\", line 85\nTVMError: URL 10.158.176.30:5001 cannot find server that matches key=client:",
     "output_type": "error",
     "traceback": [
      "\u001b[0;31m---------------------------------------------------------------------------\u001b[0m",
      "\u001b[0;31mTVMError\u001b[0m                                  Traceback (most recent call last)",
      "Cell \u001b[0;32mIn[15], line 34\u001b[0m\n\u001b[1;32m     32\u001b[0m     np\u001b[39m.\u001b[39mtesting\u001b[39m.\u001b[39massert_equal(b\u001b[39m.\u001b[39mnumpy(), a\u001b[39m.\u001b[39mnumpy() \u001b[39m+\u001b[39m \u001b[39m1\u001b[39m)\n\u001b[1;32m     33\u001b[0m     \u001b[39mprint\u001b[39m(\u001b[39m\"\u001b[39m\u001b[39mOpenCL test passed!\u001b[39m\u001b[39m\"\u001b[39m)\n\u001b[0;32m---> 34\u001b[0m run_opencl()\n",
      "Cell \u001b[0;32mIn[15], line 18\u001b[0m, in \u001b[0;36mrun_opencl\u001b[0;34m()\u001b[0m\n\u001b[1;32m     15\u001b[0m s[B]\u001b[39m.\u001b[39mbind(xi, te\u001b[39m.\u001b[39mthread_axis(\u001b[39m\"\u001b[39m\u001b[39mthreadIdx.x\u001b[39m\u001b[39m\"\u001b[39m))\n\u001b[1;32m     16\u001b[0m func \u001b[39m=\u001b[39m tvm\u001b[39m.\u001b[39mbuild(s, [A, B], target\u001b[39m=\u001b[39mtarget)\n\u001b[0;32m---> 18\u001b[0m remote \u001b[39m=\u001b[39m rpc\u001b[39m.\u001b[39mconnect(opencl_device_host, opencl_device_port, key\u001b[39m=\u001b[39m\u001b[39m\"\u001b[39m\u001b[39m\"\u001b[39m)\n\u001b[1;32m     20\u001b[0m \u001b[39m# 导出并上传\u001b[39;00m\n\u001b[1;32m     21\u001b[0m temp \u001b[39m=\u001b[39m utils\u001b[39m.\u001b[39mtempdir()\n",
      "File \u001b[0;32m/data/workspace/llm/github/new_wksp/tvm-unity/python/tvm/rpc/client.py:519\u001b[0m, in \u001b[0;36mconnect\u001b[0;34m(url, port, key, session_timeout, session_constructor_args, enable_logging)\u001b[0m\n\u001b[1;32m    517\u001b[0m     \u001b[39mif\u001b[39;00m \u001b[39mnot\u001b[39;00m \u001b[39misinstance\u001b[39m(session_constructor_args, (\u001b[39mlist\u001b[39m, \u001b[39mtuple\u001b[39m)):\n\u001b[1;32m    518\u001b[0m         \u001b[39mraise\u001b[39;00m \u001b[39mTypeError\u001b[39;00m(\u001b[39m\"\u001b[39m\u001b[39mExpect the session constructor to be a list or tuple\u001b[39m\u001b[39m\"\u001b[39m)\n\u001b[0;32m--> 519\u001b[0m     sess \u001b[39m=\u001b[39m _ffi_api\u001b[39m.\u001b[39mConnect(url, port, key, enable_logging, \u001b[39m*\u001b[39msession_constructor_args)\n\u001b[1;32m    520\u001b[0m \u001b[39mexcept\u001b[39;00m \u001b[39mNameError\u001b[39;00m:\n\u001b[1;32m    521\u001b[0m     \u001b[39mraise\u001b[39;00m \u001b[39mRuntimeError\u001b[39;00m(\u001b[39m\"\u001b[39m\u001b[39mPlease compile with USE_RPC=1\u001b[39m\u001b[39m\"\u001b[39m)\n",
      "File \u001b[0;32m/data/workspace/llm/github/new_wksp/tvm-unity/python/tvm/_ffi/_ctypes/packed_func.py:238\u001b[0m, in \u001b[0;36mPackedFuncBase.__call__\u001b[0;34m(self, *args)\u001b[0m\n\u001b[1;32m    226\u001b[0m ret_tcode \u001b[39m=\u001b[39m ctypes\u001b[39m.\u001b[39mc_int()\n\u001b[1;32m    227\u001b[0m \u001b[39mif\u001b[39;00m (\n\u001b[1;32m    228\u001b[0m     _LIB\u001b[39m.\u001b[39mTVMFuncCall(\n\u001b[1;32m    229\u001b[0m         \u001b[39mself\u001b[39m\u001b[39m.\u001b[39mhandle,\n\u001b[0;32m   (...)\u001b[0m\n\u001b[1;32m    236\u001b[0m     \u001b[39m!=\u001b[39m \u001b[39m0\u001b[39m\n\u001b[1;32m    237\u001b[0m ):\n\u001b[0;32m--> 238\u001b[0m     \u001b[39mraise\u001b[39;00m get_last_ffi_error()\n\u001b[1;32m    239\u001b[0m _ \u001b[39m=\u001b[39m temp_args\n\u001b[1;32m    240\u001b[0m _ \u001b[39m=\u001b[39m args\n",
      "\u001b[0;31mTVMError\u001b[0m: Traceback (most recent call last):\n  6: 0xffffffffffffffff\n  5: 0x00000000005b7412\n  4: __libc_start_main\n  3: ffi_call\n  2: operator()\n        at /data/workspace/llm/github/new_wksp/tvm-unity/src/runtime/rpc/rpc_socket_impl.cc:132\n  1: tvm::runtime::RPCClientConnect(std::__cxx11::basic_string<char, std::char_traits<char>, std::allocator<char> >, int, std::__cxx11::basic_string<char, std::char_traits<char>, std::allocator<char> >, bool, tvm::runtime::TVMArgs)\n        at /data/workspace/llm/github/new_wksp/tvm-unity/src/runtime/rpc/rpc_socket_impl.cc:112\n  0: tvm::runtime::RPCConnect(std::__cxx11::basic_string<char, std::char_traits<char>, std::allocator<char> >, int, std::__cxx11::basic_string<char, std::char_traits<char>, std::allocator<char> >, bool, tvm::runtime::TVMArgs)\n        at /data/workspace/llm/github/new_wksp/tvm-unity/src/runtime/rpc/rpc_socket_impl.cc:85\n  File \"/data/workspace/llm/github/new_wksp/tvm-unity/src/runtime/rpc/rpc_socket_impl.cc\", line 85\nTVMError: URL 10.158.176.30:5001 cannot find server that matches key=client:"
     ]
    }
   ],
   "source": [
    "def run_opencl():\n",
    "    n = tvm.runtime.convert(1024)\n",
    "    A = te.placeholder((n,), name=\"A\")\n",
    "    B = te.compute((n,), lambda i: A[i] + 1.0, name=\"B\")\n",
    "    s = te.create_schedule(B.op)\n",
    "    # 注意：这是 rk3399 板的设置。你需要根据你的环境进行修改\n",
    "    opencl_device_host = \"10.158.176.30\"\n",
    "    opencl_device_port = 5001\n",
    "    target = tvm.target.Target(\"opencl\", host=\"llvm -mtriple=aarch64-linux-gnu\")\n",
    "\n",
    "    # 为上面的计算声明 \"add one\" 创建 schedule\n",
    "    s = te.create_schedule(B.op)\n",
    "    xo, xi = s[B].split(B.op.axis[0], factor=32)\n",
    "    s[B].bind(xo, te.thread_axis(\"blockIdx.x\"))\n",
    "    s[B].bind(xi, te.thread_axis(\"threadIdx.x\"))\n",
    "    func = tvm.build(s, [A, B], target=target)\n",
    "\n",
    "    remote = rpc.connect(opencl_device_host, opencl_device_port, key=\"\")\n",
    "\n",
    "    # 导出并上传\n",
    "    temp = utils.tempdir()\n",
    "    path = temp.relpath(\"lib_cl.tar\")\n",
    "    func.export_library(path)\n",
    "    remote.upload(path)\n",
    "    func = remote.load_module(\"lib_cl.tar\")\n",
    "\n",
    "    # 运行\n",
    "    dev = remote.cl()\n",
    "    a = tvm.nd.array(np.random.uniform(size=1024).astype(A.dtype), dev)\n",
    "    b = tvm.nd.array(np.zeros(1024, dtype=A.dtype), dev)\n",
    "    func(a, b)\n",
    "    np.testing.assert_equal(b.numpy(), a.numpy() + 1)\n",
    "    print(\"OpenCL test passed!\")\n",
    "run_opencl()"
   ]
  }
 ],
 "metadata": {
  "kernelspec": {
   "display_name": "mlc-chat-venv",
   "language": "python",
   "name": "python3"
  },
  "language_info": {
   "codemirror_mode": {
    "name": "ipython",
    "version": 3
   },
   "file_extension": ".py",
   "mimetype": "text/x-python",
   "name": "python",
   "nbconvert_exporter": "python",
   "pygments_lexer": "ipython3",
   "version": "3.11.3"
  },
  "orig_nbformat": 4
 },
 "nbformat": 4,
 "nbformat_minor": 2
}
